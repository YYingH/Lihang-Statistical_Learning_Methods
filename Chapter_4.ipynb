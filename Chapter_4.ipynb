{
 "cells": [
  {
   "cell_type": "markdown",
   "metadata": {},
   "source": [
    "# Naive Bayes"
   ]
  },
  {
   "cell_type": "markdown",
   "metadata": {},
   "source": [
    "**Naive Bayes** method is a classification method based on Bayes' theorem and independent assumptions of feature conditions. For a given training data set, first learn the joint probability distribution of the input and output based one the feature independent assumption; then based on this model, use the Bayes theorem to find the posterior probability $y$ for the given input $x$.\n",
    "\n",
    "1. Naive Bayes method is a typical generative learning method. It learned by calculate the joint probability dributribution $P(X, Y)$ to get the posterior probability distribution $P(Y|X)$. Specifically, use the training data to learn the estimates of A and B to get the joint probability distribution:\n",
    "\n",
    "$$P(X, Y) = P(Y)P(X|Y)$$\n",
    "\n",
    "The probability estimation method can be a maximum likelihood estimation or a Bayesian estimation.\n",
    "\n",
    "\n",
    "2. The basic assumption of the Naive Bayesian method is conditional independence, \n",
    "\n",
    "$$\\begin{matrix}\n",
    "P(X=x|Y=c_k) & = P(X^{(1)} = x^{(1)}, ..., X^{(n)} = x^{(n)} | Y=c_k)  \\\\ \n",
    " & =\\prod_{j=1}^{n}P(X^{(j)} = x^{(j)}|Y = c_k)\n",
    "\\end{matrix}$$\n",
    "\n",
    "This is a strong assumption. Because of this assumption, the number of conditional probabilities contained in the model is greatly reduced, and the learning and prediction of the naive Bayes method is greatly simplified. So naive Bayesian method is efficient and easy to implement. The disadvantage is that the performance of classification is not necessarily high.\n",
    "\n",
    "3. Naive Bayes method uses Bayes theorem and learned joint probability model to make classification prediction.\n",
    "\n",
    "$$P(Y|X) = \\frac{P(X,Y)}{P(X} = \\frac{P(Y)P(X|Y)}{\\sum_YP(Y)P(X|Y)}$$\n",
    "\n",
    "4. Divides input x into the class y with the largest posterior probability.\n",
    "\n",
    "$$y =\\arg \\max_{c_k}P(c_k|X=x) \\\\= \\arg max_{c_{k}}P(Y = c_k)\\prod_{j=1}^{n}P(X_j = x^{(j)}|Y=c_k)$$\n",
    "\n",
    "5. The maximum posterior probability is equivalent to the expected risk minimization when the loss function is 0-1.\n",
    "\n",
    "model:\n",
    "\n",
    "- Gaussian model\n",
    "\n",
    "- Polynomial model\n",
    "\n",
    "- Bernoulli model"
   ]
  },
  {
   "cell_type": "code",
   "execution_count": null,
   "metadata": {},
   "outputs": [],
   "source": []
  },
  {
   "cell_type": "code",
   "execution_count": null,
   "metadata": {},
   "outputs": [],
   "source": []
  },
  {
   "cell_type": "code",
   "execution_count": null,
   "metadata": {},
   "outputs": [],
   "source": []
  },
  {
   "cell_type": "code",
   "execution_count": null,
   "metadata": {},
   "outputs": [],
   "source": []
  },
  {
   "cell_type": "code",
   "execution_count": null,
   "metadata": {},
   "outputs": [],
   "source": []
  },
  {
   "cell_type": "code",
   "execution_count": null,
   "metadata": {},
   "outputs": [],
   "source": []
  },
  {
   "cell_type": "code",
   "execution_count": null,
   "metadata": {},
   "outputs": [],
   "source": []
  },
  {
   "cell_type": "code",
   "execution_count": null,
   "metadata": {},
   "outputs": [],
   "source": []
  },
  {
   "cell_type": "code",
   "execution_count": null,
   "metadata": {},
   "outputs": [],
   "source": []
  },
  {
   "cell_type": "code",
   "execution_count": null,
   "metadata": {},
   "outputs": [],
   "source": []
  },
  {
   "cell_type": "code",
   "execution_count": null,
   "metadata": {},
   "outputs": [],
   "source": []
  },
  {
   "cell_type": "code",
   "execution_count": null,
   "metadata": {},
   "outputs": [],
   "source": []
  }
 ],
 "metadata": {
  "kernelspec": {
   "display_name": "ISLR_Python",
   "language": "python",
   "name": "islr_python"
  },
  "language_info": {
   "codemirror_mode": {
    "name": "ipython",
    "version": 3
   },
   "file_extension": ".py",
   "mimetype": "text/x-python",
   "name": "python",
   "nbconvert_exporter": "python",
   "pygments_lexer": "ipython3",
   "version": "3.7.4"
  }
 },
 "nbformat": 4,
 "nbformat_minor": 2
}
