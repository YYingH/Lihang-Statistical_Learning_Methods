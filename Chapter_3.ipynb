{
 "cells": [
  {
   "cell_type": "markdown",
   "metadata": {},
   "source": [
    "## KNN\n",
    "KNN can be used for both classification and regression predictive problems. However, it is more widely used in classification problems in the industry. To evaluate any technique we generally look at 3 important aspects:\n",
    "\n",
    "1. Ease to interpret output\n",
    "\n",
    "2. Calculation time\n",
    "\n",
    "3. Predictive Power\n",
    "\n",
    "\n",
    "### Distance measure:\n",
    "Suppose the feature space x is an n-dimensional real vector space, $x_i, x_j \\in \\chi $, $x_i = (x^{(1)}_i, x^{(2)}_i, ..., x^{(n)}_i)^T$, $x_j = (x^{(1)}_j, x^{(2)}_j, ..., x^{(n)}_j)^T$. Then the $L_p$ distance between $x_i$ and $x_j$ is defined as:\n",
    "$$L_p(x_i, x_j)= (\\sum_{l=1}^{n}|x^{(i)}_i-x^{(l)}_j|^p)^{\\frac{1}{p}}$$\n",
    "\n",
    "   - p = 1, Manhattan distance\n",
    "   $$L_1 (x_i, x_j) = \\sum_{l=1}^{n}\\left | x^{(l)}_i-x^{(l)}_j \\right |$$\n",
    "   - p = 2, Euclidean distance\n",
    "   $$L_2(x_i, x_j) = (\\sum_{l=1}^{n}\\left | x^{(l)}_i-x^{(l)}_j \\right |^2)^\\frac{1}{2}$$\n",
    "   - p = ∞, Chebyshev distance\n",
    "$$L_\\infty (x_i, x_j) = \\underset{l}{max}\\left | x^{(l)}_i-x^{(l)}_j \\right |$$\n",
    "\n",
    "We can implement a KNN model by following the below steps:\n",
    "\n",
    "1. Load the data\n",
    "2. Initialise the value of k\n",
    "3. For getting the predicted class, iterate from 1 to total number of training data points\n",
    "4. Calculate the distance between test data and each row of training data. Here we will use Euclidean distance as our distance metric since it’s the most popular method. The other metrics that can be used are Chebyshev, cosine, etc.\n",
    "5. Sort the calculated distances in ascending order based on distance values\n",
    "6. Get top k rows from the sorted array\n",
    "7. Get the most frequent class of these rows\n",
    "8. Return the predicted class"
   ]
  },
  {
   "cell_type": "code",
   "execution_count": 2,
   "metadata": {},
   "outputs": [],
   "source": [
    "import math\n",
    "from itertools import combinations"
   ]
  },
  {
   "cell_type": "code",
   "execution_count": 7,
   "metadata": {},
   "outputs": [],
   "source": [
    "def L(x, y, p=2):\n",
    "    if len(x) == len(y) and len(x)>1:\n",
    "        sum_res = 0\n",
    "        for i in range(len(x)):\n",
    "            sum_res += math.pow(abs(x[i]-y[i]), p)\n",
    "        return math.pow(sum_res, 1/p)\n",
    "    else:\n",
    "        return 0"
   ]
  },
  {
   "cell_type": "markdown",
   "metadata": {},
   "source": [
    "### 3.1"
   ]
  },
  {
   "cell_type": "code",
   "execution_count": 4,
   "metadata": {},
   "outputs": [],
   "source": [
    "x1 = [1, 1]\n",
    "x2 = [5, 1]\n",
    "x3 = [4, 4]"
   ]
  },
  {
   "cell_type": "code",
   "execution_count": 8,
   "metadata": {},
   "outputs": [
    {
     "name": "stdout",
     "output_type": "stream",
     "text": [
      "(4.0, '1-[5, 1]')\n",
      "(4.0, '1-[5, 1]')\n",
      "(3.7797631496846193, '1-[4, 4]')\n",
      "(3.5676213450081633, '1-[4, 4]')\n"
     ]
    }
   ],
   "source": [
    "# x1, x2\n",
    "for i in range(1, 5):\n",
    "    r = {'1-{}'.format(c):L(x1, c, p=i) for c in [x2, x3]}\n",
    "    print(min(zip(r.values(), r.keys())))"
   ]
  },
  {
   "cell_type": "code",
   "execution_count": null,
   "metadata": {},
   "outputs": [],
   "source": []
  },
  {
   "cell_type": "code",
   "execution_count": null,
   "metadata": {},
   "outputs": [],
   "source": []
  },
  {
   "cell_type": "code",
   "execution_count": null,
   "metadata": {},
   "outputs": [],
   "source": []
  },
  {
   "cell_type": "code",
   "execution_count": null,
   "metadata": {},
   "outputs": [],
   "source": []
  },
  {
   "cell_type": "code",
   "execution_count": null,
   "metadata": {},
   "outputs": [],
   "source": []
  },
  {
   "cell_type": "code",
   "execution_count": null,
   "metadata": {},
   "outputs": [],
   "source": []
  },
  {
   "cell_type": "code",
   "execution_count": null,
   "metadata": {},
   "outputs": [],
   "source": []
  }
 ],
 "metadata": {
  "kernelspec": {
   "display_name": "ISLR_Python",
   "language": "python",
   "name": "islr_python"
  },
  "language_info": {
   "codemirror_mode": {
    "name": "ipython",
    "version": 3
   },
   "file_extension": ".py",
   "mimetype": "text/x-python",
   "name": "python",
   "nbconvert_exporter": "python",
   "pygments_lexer": "ipython3",
   "version": "3.7.4"
  }
 },
 "nbformat": 4,
 "nbformat_minor": 2
}
